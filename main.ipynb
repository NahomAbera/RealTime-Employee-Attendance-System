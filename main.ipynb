{
 "cells": [
  {
   "cell_type": "code",
   "execution_count": null,
   "metadata": {},
   "outputs": [],
   "source": [
    "import cv2\n",
    "import numpy as np\n",
    "from IPython.display import Image\n",
    "import matplotlib.pyplot as plt "
   ]
  },
  {
   "cell_type": "code",
   "execution_count": null,
   "metadata": {},
   "outputs": [],
   "source": [
    "# Read the image into a numpy array.\n",
    "signature = cv2.imread(\"Assets/signature1.jpg\", cv2.IMREAD_COLOR)\n",
    "\n",
    "Image(\"Assets/signature1.jpg\", width = 600)"
   ]
  },
  {
   "cell_type": "code",
   "execution_count": null,
   "metadata": {},
   "outputs": [],
   "source": [
    "plt.imshow(signature[:,:,::-1])"
   ]
  },
  {
   "cell_type": "code",
   "execution_count": null,
   "metadata": {},
   "outputs": [],
   "source": [
    "point_of_interest = cv2.rectangle(signature, (500,900), (3500,2100), (0,0,255),thickness=3,lineType=cv2.LINE_AA)\n",
    "plt.imshow(point_of_interest)"
   ]
  },
  {
   "cell_type": "code",
   "execution_count": null,
   "metadata": {},
   "outputs": [],
   "source": [
    "signature_copy = signature[900:2100, 500:3500,:]\n",
    "plt.imshow(signature_copy)"
   ]
  },
  {
   "cell_type": "code",
   "execution_count": null,
   "metadata": {},
   "outputs": [],
   "source": [
    "signature_copy = signature.copy()\n",
    "signature_gray = cv2.cvtColor(signature_copy, cv2.COLOR_BGR2GRAY)\n",
    "plt.imshow(signature_gray, cmap = \"gray\")"
   ]
  },
  {
   "cell_type": "code",
   "execution_count": null,
   "metadata": {},
   "outputs": [],
   "source": [
    "print(signature_gray[1000:,2500:])\n",
    "plt.imshow(signature_gray[1000:,2500:], cmap = \"gray\")"
   ]
  },
  {
   "cell_type": "code",
   "execution_count": null,
   "metadata": {},
   "outputs": [],
   "source": [
    "ret, signature_binary = cv2.threshold(signature_gray, 100, 255, type=cv2.THRESH_BINARY_INV)\n",
    "plt.imshow(signature_binary, cmap=\"gray\")"
   ]
  },
  {
   "cell_type": "code",
   "execution_count": null,
   "metadata": {},
   "outputs": [],
   "source": [
    "blue_array = signature_copy.copy()\n",
    "blue_array[:,:] = (255,0,0)\n",
    "plt.imshow(blue_array[:,:,::-1])"
   ]
  },
  {
   "cell_type": "code",
   "execution_count": null,
   "metadata": {},
   "outputs": [],
   "source": [
    "signature = cv2.addWeighted(signature_copy, 1, blue_array, 0.5, 0)\n",
    "plt.imshow(signature[:,:,::-1])"
   ]
  },
  {
   "cell_type": "code",
   "execution_count": null,
   "metadata": {},
   "outputs": [],
   "source": [
    "b,g,r = cv2.split(signature)\n",
    "plt.subplot(141); plt.imshow(b, cmap=\"gray\"); plt.title(\"Blue Channel\")\n",
    "plt.subplot(142); plt.imshow(g, cmap=\"gray\"); plt.title(\"Green Channel\")\n",
    "plt.subplot(143); plt.imshow(r, cmap=\"gray\"); plt.title(\"Red Channel\")\n",
    "plt.subplot(144); plt.imshow(signature_binary, cmap=\"gray\"); plt.title(\"Alpha Channel\")"
   ]
  },
  {
   "cell_type": "code",
   "execution_count": null,
   "metadata": {},
   "outputs": [],
   "source": [
    "print(signature_binary.shape)\n",
    "signature = cv2.merge([b,g,r, signature_binary], 4)\n",
    "cv2.imwrite(\"Assets/e_Signature1.png\", signature)\n",
    "Image(\"Assets/e_Signature1.png\", width = 600 )"
   ]
  }
 ],
 "metadata": {
  "kernelspec": {
   "display_name": "cv-env",
   "language": "python",
   "name": "python3"
  },
  "language_info": {
   "codemirror_mode": {
    "name": "ipython",
    "version": 3
   },
   "file_extension": ".py",
   "mimetype": "text/x-python",
   "name": "python",
   "nbconvert_exporter": "python",
   "pygments_lexer": "ipython3",
   "version": "3.12.2"
  }
 },
 "nbformat": 4,
 "nbformat_minor": 2
}
